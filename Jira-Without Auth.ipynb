{
 "cells": [
  {
   "cell_type": "code",
   "execution_count": null,
   "metadata": {
    "ExecuteTime": {
     "end_time": "2021-08-16T12:46:01.470333Z",
     "start_time": "2021-08-16T12:45:59.676127Z"
    }
   },
   "outputs": [],
   "source": [
    "#!/usr/bin/python3.6\n",
    "\n",
    "# library modules\n",
    "from jira import JIRA\n",
    "\n",
    "import pandas as pd\n",
    "\n",
    "import json"
   ]
  },
  {
   "cell_type": "code",
   "execution_count": null,
   "metadata": {
    "ExecuteTime": {
     "end_time": "2021-08-13T20:54:49.943124Z",
     "start_time": "2021-08-13T20:54:48.040697Z"
    },
    "scrolled": true
   },
   "outputs": [],
   "source": [
    "'''\n",
    "# find all fields\n",
    "authenticated_jira = JIRA(options={'server': 'https://pebmed.atlassian.net/'}, basic_auth=('XXXXXXX', 'XXXXXXXX'))\n",
    "issue = authenticated_jira.issue('REC-258') \n",
    "issue.raw\n",
    "'''"
   ]
  },
  {
   "cell_type": "code",
   "execution_count": null,
   "metadata": {
    "ExecuteTime": {
     "end_time": "2021-08-16T13:08:45.218007Z",
     "start_time": "2021-08-16T13:08:26.525400Z"
    }
   },
   "outputs": [],
   "source": [
    "#Final Approach\n",
    "options = {'server': 'https://pebmed.atlassian.net/'}\n",
    "jira = JIRA(options, basic_auth=('XXXXXXX', 'XXXXXXXXXX'))\n",
    "size = 100\n",
    "initial = 0\n",
    "lista_candidatos = []\n",
    "\n",
    "while True:\n",
    "#while issue.fields.issuetype.name != 'Padrão':\n",
    "    start= initial*size\n",
    "    issues = jira.search_issues('project=REC',  start,size)\n",
    "    if len(issues) == 0:\n",
    "        break\n",
    "    \n",
    "    for issue in issues:\n",
    "        '''\n",
    "        print ('ticket-no=',issue)\n",
    "        print ('IssueType=',issue.fields.issuetype.name)\n",
    "        print ('Status=',issue.fields.status.name)\n",
    "        print ('Summary=',issue.fields.summary)\n",
    "        '''\n",
    "        \n",
    "        if issue.fields.issuetype.name == 'Padrão':\n",
    "            try:\n",
    "                Vaga = issue.fields.parent.fields.summary\n",
    "            except:\n",
    "                Vaga = None\n",
    "\n",
    "            try:\n",
    "                Passo_ant = issue.fields.customfield_10756.value\n",
    "            except:\n",
    "                Passo_ant = None\n",
    "\n",
    "            try:\n",
    "                Resp = issue.fields.assignee.displayName\n",
    "            except:\n",
    "                Resp = None \n",
    "\n",
    "            Candidato = {'id':issue.id,\n",
    "            'Nome':issue.fields.summary,\n",
    "            'Status Atual':issue.fields.status.name,\n",
    "            'key':issue.key,\n",
    "            'Data Criada':issue.fields.created,\n",
    "            'Data Atualizada':issue.fields.updated,\n",
    "            'Responsável':Resp,\n",
    "            'Vaga':Vaga,\n",
    "            'Passo Anterior':Passo_ant,\n",
    "            'link':('https://pebmed.atlassian.net/browse/'+issue.key)}\n",
    "\n",
    "            lista_candidatos.append(Candidato)\n",
    "\n",
    "    initial += 1\n",
    "   "
   ]
  },
  {
   "cell_type": "code",
   "execution_count": null,
   "metadata": {
    "ExecuteTime": {
     "end_time": "2021-08-16T13:08:49.699218Z",
     "start_time": "2021-08-16T13:08:49.666029Z"
    }
   },
   "outputs": [],
   "source": [
    "a = pd.DataFrame( lista_candidatos )\n",
    "\n",
    "a"
   ]
  },
  {
   "cell_type": "code",
   "execution_count": null,
   "metadata": {
    "ExecuteTime": {
     "end_time": "2021-08-16T13:23:21.943814Z",
     "start_time": "2021-08-16T13:23:21.918850Z"
    }
   },
   "outputs": [],
   "source": [
    "a.to_csv('Teste.csv', encoding='Windows-1252')"
   ]
  }
 ],
 "metadata": {
  "kernelspec": {
   "display_name": "Python 3",
   "language": "python",
   "name": "python3"
  },
  "language_info": {
   "codemirror_mode": {
    "name": "ipython",
    "version": 3
   },
   "file_extension": ".py",
   "mimetype": "text/x-python",
   "name": "python",
   "nbconvert_exporter": "python",
   "pygments_lexer": "ipython3",
   "version": "3.8.5"
  },
  "varInspector": {
   "cols": {
    "lenName": 16,
    "lenType": 16,
    "lenVar": 40
   },
   "kernels_config": {
    "python": {
     "delete_cmd_postfix": "",
     "delete_cmd_prefix": "del ",
     "library": "var_list.py",
     "varRefreshCmd": "print(var_dic_list())"
    },
    "r": {
     "delete_cmd_postfix": ") ",
     "delete_cmd_prefix": "rm(",
     "library": "var_list.r",
     "varRefreshCmd": "cat(var_dic_list()) "
    }
   },
   "types_to_exclude": [
    "module",
    "function",
    "builtin_function_or_method",
    "instance",
    "_Feature"
   ],
   "window_display": false
  }
 },
 "nbformat": 4,
 "nbformat_minor": 4
}
